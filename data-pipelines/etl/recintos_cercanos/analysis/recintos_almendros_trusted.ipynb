{
 "cells": [
  {
   "cell_type": "code",
   "execution_count": 19,
   "metadata": {},
   "outputs": [],
   "source": [
    "import pandas as pd\n",
    "import pandera as pa\n",
    "import io\n",
    "from minio import Minio\n",
    "import os\n",
    "\n",
    "ACCESS_ROOT = os.environ.get(\"PREFECT_MINIO_ACCESS_ROOT\")\n",
    "SECRET_ROOT = os.environ.get(\"PREFECT_MINIO_SECRET_ROOT\")\n",
    "MINIO_HOST = os.environ.get(\"PREFECT_MINIO_HOST\")\n",
    "minio_client = Minio(MINIO_HOST, access_key=ACCESS_ROOT,\n",
    "                     secret_key=SECRET_ROOT, secure=False)\n",
    "# Query parquet file from MinIO\n",
    "data = minio_client.get_object(\n",
    "    \"landing-zone\", \"Recintos_Almendros_Cercanos_y_Otros_Cultivos.xlsx\").read()\n",
    "df = pd.read_excel(io.BytesIO(data), engine=\"openpyxl\",\n",
    "                       sheet_name=\"Tratamientos\", na_values=[''])\n",
    "\n",
    "\n"
   ]
  },
  {
   "cell_type": "code",
   "execution_count": 20,
   "metadata": {},
   "outputs": [
    {
     "data": {
      "text/plain": [
       "MovimientoCosecha                       int64\n",
       "MovimientoFechaDeInicio                object\n",
       "Producto                               object\n",
       "ProductoNombre                         object\n",
       "Formulado                              object\n",
       "TratamientosPlagaEfectosEnPlagasId      int64\n",
       "EfectosEnPlagas                        object\n",
       "TratamientosPlagaMalasHierbasId       float64\n",
       "SecUserNombre                          object\n",
       "SecUserNIF                             object\n",
       "SecUserId                               int64\n",
       "ParcelaProvinciaId                      int64\n",
       "ParcelaMunicipioId                      int64\n",
       "ParcelaPoligono                         int64\n",
       "Parcela                                 int64\n",
       "ParcelaRecinto                         object\n",
       "ParcelaParaje                          object\n",
       "ParcelaAgregado                        object\n",
       "ParcelaZona                             int64\n",
       "ParcelaCosechaCodigoPAC                 int64\n",
       "ParcelaCosechaCultivoPAC               object\n",
       "Caldo                                 float64\n",
       "TipoDeDosisId                           int64\n",
       "TipoDeDosisDetalle                     object\n",
       "MovimientoParcelaSuperficieTratada    float64\n",
       "Cantidad                              float64\n",
       "MovimientoPlazoDeSeguridad             object\n",
       "MovimientoDosis                       float64\n",
       "ParcelaSuperficieCultivo              float64\n",
       "ParcelaSuperficieSIGPAC               float64\n",
       "ParcelaZonaVulnerable                   int64\n",
       "UsoDeParcelasId                        object\n",
       "dtype: object"
      ]
     },
     "execution_count": 20,
     "metadata": {},
     "output_type": "execute_result"
    }
   ],
   "source": [
    "df.dtypes"
   ]
  },
  {
   "cell_type": "code",
   "execution_count": 21,
   "metadata": {},
   "outputs": [
    {
     "data": {
      "text/plain": [
       "MovimientoCosecha                              int64\n",
       "MovimientoFechaDeInicio               datetime64[ns]\n",
       "Producto                                      object\n",
       "ProductoNombre                                object\n",
       "Formulado                                     object\n",
       "TratamientosPlagaEfectosEnPlagasId            object\n",
       "EfectosEnPlagas                               object\n",
       "TratamientosPlagaMalasHierbasId               object\n",
       "SecUserNombre                                 object\n",
       "SecUserNIF                                    object\n",
       "SecUserId                                     object\n",
       "ParcelaProvinciaId                            object\n",
       "ParcelaMunicipioId                            object\n",
       "ParcelaPoligono                               object\n",
       "Parcela                                       object\n",
       "ParcelaRecinto                                object\n",
       "ParcelaParaje                                 object\n",
       "ParcelaAgregado                               object\n",
       "ParcelaZona                                   object\n",
       "ParcelaCosechaCodigoPAC                       object\n",
       "ParcelaCosechaCultivoPAC                      object\n",
       "Caldo                                         object\n",
       "TipoDeDosisId                                 object\n",
       "TipoDeDosisDetalle                            object\n",
       "MovimientoParcelaSuperficieTratada           float64\n",
       "Cantidad                                     float64\n",
       "MovimientoPlazoDeSeguridad                    object\n",
       "MovimientoDosis                              float64\n",
       "ParcelaSuperficieCultivo                     float64\n",
       "ParcelaSuperficieSIGPAC                      float64\n",
       "ParcelaZonaVulnerable                         object\n",
       "UsoDeParcelasId                               object\n",
       "dtype: object"
      ]
     },
     "execution_count": 21,
     "metadata": {},
     "output_type": "execute_result"
    }
   ],
   "source": [
    "schema = pa.DataFrameSchema({\n",
    "        \"MovimientoCosecha\": pa.Column(pa.Int),\n",
    "        \"MovimientoFechaDeInicio\": pa.Column(pa.DateTime),\n",
    "        \"Producto\": pa.Column(pa.String, nullable=True),\n",
    "        \"ProductoNombre\": pa.Column(pa.String),\n",
    "        \"Formulado\": pa.Column(pa.String, nullable=True),\n",
    "        \"TratamientosPlagaEfectosEnPlagasId\": pa.Column(pa.String, nullable=True),\n",
    "        \"EfectosEnPlagas\": pa.Column(pa.String),\n",
    "        \"TratamientosPlagaMalasHierbasId\": pa.Column(pa.String, nullable=True),\n",
    "        \"SecUserNombre\": pa.Column(pa.String),\n",
    "        \"SecUserNIF\": pa.Column(pa.String, nullable=True),\n",
    "        \"SecUserId\": pa.Column(pa.String),\n",
    "        \"ParcelaProvinciaId\": pa.Column(pa.String),\n",
    "        \"ParcelaMunicipioId\": pa.Column(pa.String),\n",
    "        \"ParcelaPoligono\": pa.Column(pa.String),\n",
    "        \"Parcela\": pa.Column(pa.String),\n",
    "        \"ParcelaRecinto\": pa.Column(pa.String),\n",
    "        \"ParcelaParaje\": pa.Column(pa.String, nullable=True),\n",
    "        \"ParcelaAgregado\": pa.Column(pa.String),\n",
    "        \"ParcelaZona\": pa.Column(pa.String),\n",
    "        \"ParcelaCosechaCodigoPAC\": pa.Column(pa.String),\n",
    "        \"ParcelaCosechaCultivoPAC\": pa.Column(pa.String),\n",
    "        \"Caldo\": pa.Column(pa.String, nullable=True),\n",
    "        \"TipoDeDosisId\": pa.Column(pa.String, nullable=True),\n",
    "        \"TipoDeDosisDetalle\": pa.Column(pa.String),\n",
    "        \"MovimientoParcelaSuperficieTratada\": pa.Column(pa.Float),\n",
    "        \"Cantidad\": pa.Column(pa.Float),\n",
    "        \"MovimientoPlazoDeSeguridad\": pa.Column(pa.String, nullable=True),\n",
    "        \"MovimientoDosis\": pa.Column(pa.Float),\n",
    "        \"ParcelaSuperficieCultivo\": pa.Column(pa.Float),\n",
    "        \"ParcelaSuperficieSIGPAC\": pa.Column(pa.Float, nullable=True),\n",
    "        \"ParcelaZonaVulnerable\": pa.Column(pa.String, nullable=True),\n",
    "        \"UsoDeParcelasId\": pa.Column(pa.String, nullable=True),\n",
    "    }, coerce=True, unique_column_names=True)\n",
    "\n",
    "validated_df = schema.validate(df)\n",
    "validated_df.dtypes"
   ]
  },
  {
   "cell_type": "code",
   "execution_count": 22,
   "metadata": {},
   "outputs": [],
   "source": [
    "\n",
    "validated_df.rename(columns={\"MovimientoCosecha\": \"harvestYear\", \"MovimientoFechaDeInicio\": \"harvestInitDate\", \"Producto\": \"phytosanitaryId\", \"ProductoNombre\": \"phytosanitaryName\", \"Formulado\": \"phytosanitaryFormula\", \"TratamientosPlagaEfectosEnPlagasId\": \"plagueTreatmentEffectsId\", \"EfectosEnPlagas\": \"plagueEffects\", \"TratamientosPlagaMalasHierbasId\": \"plagueTreatmentWeedsId\", \"SecUserNombre\": \"secUserName\", \"SecUserNIF\": \"secUserNIF\", \"SecUserId\": \"secUserId\", \"ParcelaProvinciaId\": \"parcelProvinceId\", \"ParcelaMunicipioId\": \"parcelMunicipalityId\", \"ParcelaPoligono\": \"parcelPolygonId\", \"Parcela\": \"parcelId\", \"ParcelaRecinto\": \"parcelEnclosureId\",\n",
    "              \"ParcelaParaje\": \"parcelGeographicSpot\", \"ParcelaAgregado\": \"parcelAggregatedId\", \"ParcelaZona\": \"parcelZoneId\", \"ParcelaCosechaCodigoPAC\": \"parcelHarvestPACCode\", \"ParcelaCosechaCultivoPAC\": \"parcelHavestPACCropTree\", \"Caldo\": \"broth\", \"TipoDeDosisId\": \"doseKind\", \"TipoDeDosisDetalle\": \"doseUnit\", \"MovimientoParcelaSuperficieTratada\": \"treatedArea\", \"Cantidad\": \"phytosanitaryQuantityMovement\", \"MovimientoPlazoDeSeguridad\": \"safePeriodMovement\", \"MovimientoDosis\": \"doseMovement\", \"ParcelaSuperficieCultivo\": \"parcelArea\", \"ParcelaSuperficieSIGPAC\": \"parcelAreaSIGPAC\", \"ParcelaZonaVulnerable\": \"parcelVulnerableArea\", \"UsoDeParcelasId\": \"parcelSIGPACCode\"}, inplace=True)\n",
    "# Hide sensitive data\n",
    "validated_df = validated_df.drop(columns=[\"secUserNIF\"])\n",
    "# NOTE: Thanks to Jupyter Notebook, I found out that some number columns are being read as objects\n",
    "# Trim spaces and tabs to all object columns\n",
    "validated_df = validated_df.applymap(lambda x: x.strip() if isinstance(x, str) else x)\n",
    "# Convert NULL, NP, NaN, etc. to None\n",
    "validated_df = validated_df.replace(\n",
    "    {pd.NA: None, \"NP\": None, \"NaN\": None, \"\": None, \"NULL\": None})\n",
    "# Remove parcelEnclosureId row if it is None\n",
    "validated_df = validated_df[validated_df[\"parcelAggregatedId\"].notna()]\n",
    "# Convert strings to uppercase\n",
    "validated_df[\"secUserName\"] = validated_df[\"secUserName\"].str.upper()\n",
    "# Get data year\n",
    "data_year = validated_df['harvestYear'].iloc[:1].values[0]"
   ]
  },
  {
   "cell_type": "code",
   "execution_count": 23,
   "metadata": {},
   "outputs": [
    {
     "data": {
      "text/plain": [
       "harvestYear                               int64\n",
       "harvestInitDate                  datetime64[ns]\n",
       "phytosanitaryId                          object\n",
       "phytosanitaryName                        object\n",
       "phytosanitaryFormula                     object\n",
       "plagueTreatmentEffectsId                 object\n",
       "plagueEffects                            object\n",
       "plagueTreatmentWeedsId                  float64\n",
       "secUserName                              object\n",
       "secUserId                                object\n",
       "parcelProvinceId                         object\n",
       "parcelMunicipalityId                     object\n",
       "parcelPolygonId                          object\n",
       "parcelId                                 object\n",
       "parcelEnclosureId                        object\n",
       "parcelGeographicSpot                     object\n",
       "parcelAggregatedId                       object\n",
       "parcelZoneId                             object\n",
       "parcelHarvestPACCode                     object\n",
       "parcelHavestPACCropTree                  object\n",
       "broth                                    object\n",
       "doseKind                                 object\n",
       "doseUnit                                 object\n",
       "treatedArea                             float64\n",
       "phytosanitaryQuantityMovement           float64\n",
       "safePeriodMovement                       object\n",
       "doseMovement                            float64\n",
       "parcelArea                              float64\n",
       "parcelAreaSIGPAC                        float64\n",
       "parcelVulnerableArea                     object\n",
       "parcelSIGPACCode                         object\n",
       "dtype: object"
      ]
     },
     "execution_count": 23,
     "metadata": {},
     "output_type": "execute_result"
    }
   ],
   "source": [
    "validated_df.dtypes"
   ]
  },
  {
   "cell_type": "code",
   "execution_count": 24,
   "metadata": {},
   "outputs": [
    {
     "data": {
      "text/html": [
       "<div>\n",
       "<style scoped>\n",
       "    .dataframe tbody tr th:only-of-type {\n",
       "        vertical-align: middle;\n",
       "    }\n",
       "\n",
       "    .dataframe tbody tr th {\n",
       "        vertical-align: top;\n",
       "    }\n",
       "\n",
       "    .dataframe thead th {\n",
       "        text-align: right;\n",
       "    }\n",
       "</style>\n",
       "<table border=\"1\" class=\"dataframe\">\n",
       "  <thead>\n",
       "    <tr style=\"text-align: right;\">\n",
       "      <th></th>\n",
       "      <th>harvestYear</th>\n",
       "      <th>harvestInitDate</th>\n",
       "      <th>phytosanitaryId</th>\n",
       "      <th>phytosanitaryName</th>\n",
       "      <th>phytosanitaryFormula</th>\n",
       "      <th>plagueTreatmentEffectsId</th>\n",
       "      <th>plagueEffects</th>\n",
       "      <th>plagueTreatmentWeedsId</th>\n",
       "      <th>secUserName</th>\n",
       "      <th>secUserId</th>\n",
       "      <th>parcelProvinceId</th>\n",
       "      <th>parcelMunicipalityId</th>\n",
       "      <th>parcelPolygonId</th>\n",
       "      <th>parcelId</th>\n",
       "      <th>parcelEnclosureId</th>\n",
       "      <th>parcelGeographicSpot</th>\n",
       "      <th>parcelAggregatedId</th>\n",
       "      <th>parcelZoneId</th>\n",
       "      <th>parcelHarvestPACCode</th>\n",
       "      <th>parcelHavestPACCropTree</th>\n",
       "      <th>broth</th>\n",
       "      <th>doseKind</th>\n",
       "      <th>doseUnit</th>\n",
       "      <th>treatedArea</th>\n",
       "      <th>phytosanitaryQuantityMovement</th>\n",
       "      <th>safePeriodMovement</th>\n",
       "      <th>doseMovement</th>\n",
       "      <th>parcelArea</th>\n",
       "      <th>parcelAreaSIGPAC</th>\n",
       "      <th>parcelVulnerableArea</th>\n",
       "      <th>parcelSIGPACCode</th>\n",
       "    </tr>\n",
       "  </thead>\n",
       "  <tbody>\n",
       "  </tbody>\n",
       "</table>\n",
       "</div>"
      ],
      "text/plain": [
       "Empty DataFrame\n",
       "Columns: [harvestYear, harvestInitDate, phytosanitaryId, phytosanitaryName, phytosanitaryFormula, plagueTreatmentEffectsId, plagueEffects, plagueTreatmentWeedsId, secUserName, secUserId, parcelProvinceId, parcelMunicipalityId, parcelPolygonId, parcelId, parcelEnclosureId, parcelGeographicSpot, parcelAggregatedId, parcelZoneId, parcelHarvestPACCode, parcelHavestPACCropTree, broth, doseKind, doseUnit, treatedArea, phytosanitaryQuantityMovement, safePeriodMovement, doseMovement, parcelArea, parcelAreaSIGPAC, parcelVulnerableArea, parcelSIGPACCode]\n",
       "Index: []"
      ]
     },
     "execution_count": 24,
     "metadata": {},
     "output_type": "execute_result"
    }
   ],
   "source": [
    "data = validated_df.to_parquet()\n",
    "# To dataframe\n",
    "df = pd.read_parquet(io.BytesIO(data))\n",
    "# Show complete dataframe\n",
    "pd.set_option('display.max_columns', None)\n",
    "# Show rows which column \"parcelEnclosureId\" is not '0'\n",
    "df[df[\"parcelAggregatedId\"] != '0']"
   ]
  }
 ],
 "metadata": {
  "kernelspec": {
   "display_name": "Python 3 (ipykernel)",
   "language": "python",
   "name": "python3"
  },
  "language_info": {
   "codemirror_mode": {
    "name": "ipython",
    "version": 3
   },
   "file_extension": ".py",
   "mimetype": "text/x-python",
   "name": "python",
   "nbconvert_exporter": "python",
   "pygments_lexer": "ipython3",
   "version": "3.11.3"
  },
  "orig_nbformat": 4
 },
 "nbformat": 4,
 "nbformat_minor": 2
}
