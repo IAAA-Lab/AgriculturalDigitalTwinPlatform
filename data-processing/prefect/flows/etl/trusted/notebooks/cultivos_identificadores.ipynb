{
 "cells": [
  {
   "cell_type": "code",
   "execution_count": 7,
   "metadata": {},
   "outputs": [],
   "source": [
    "import pandas as pd\n",
    "import io\n",
    "from minio import Minio\n",
    "import os\n",
    "\n",
    "FILE_PATH = f\"ERP/unknown\"\n",
    "FILE_NAME = \"cultivos_identificadores.xlsx\"\n",
    "\n",
    "  # Connect to MinIO\n",
    "ACCESS_ROOT = os.environ.get(\"PREFECT_MINIO_ACCESS_ROOT\")\n",
    "SECRET_ROOT = os.environ.get(\"PREFECT_MINIO_SECRET_ROOT\")\n",
    "MINIO_HOST = os.environ.get(\"PREFECT_MINIO_HOST\")\n",
    "minio_client = Minio(MINIO_HOST, access_key=ACCESS_ROOT,\n",
    "                     secret_key=SECRET_ROOT, secure=False)\n",
    "\n",
    "data = minio_client.get_object(\n",
    "    \"trusted-zone\", f\"{FILE_PATH}/{FILE_NAME}\").read()\n",
    "df = pd.read_excel(io.BytesIO(data), engine=\"openpyxl\",\n",
    "                    sheet_name=\"Sheet1\", na_values=[\"\"])"
   ]
  },
  {
   "cell_type": "code",
   "execution_count": 14,
   "metadata": {},
   "outputs": [
    {
     "data": {
      "text/plain": [
       "agroMeasureId         object\n",
       "plantationKind        object\n",
       "plantationSubKind     object\n",
       "codeType              object\n",
       "cropName              object\n",
       "cropVariety           object\n",
       "cropId                 int64\n",
       "cropVarietyId        float64\n",
       "RainfedIrrigated      object\n",
       "dtype: object"
      ]
     },
     "execution_count": 14,
     "metadata": {},
     "output_type": "execute_result"
    }
   ],
   "source": [
    "# Show the entire dataframe\n",
    "pd.set_option('display.max_rows', df.shape[0]+1)\n",
    "df.dtypes"
   ]
  }
 ],
 "metadata": {
  "kernelspec": {
   "display_name": "Python 3 (ipykernel)",
   "language": "python",
   "name": "python3"
  },
  "orig_nbformat": 4
 },
 "nbformat": 4,
 "nbformat_minor": 2
}
