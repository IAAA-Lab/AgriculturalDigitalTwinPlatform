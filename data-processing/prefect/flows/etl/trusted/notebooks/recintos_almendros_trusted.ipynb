{
 "cells": [
  {
   "cell_type": "code",
   "execution_count": 6,
   "metadata": {},
   "outputs": [],
   "source": [
    "import pandas as pd\n",
    "import io\n",
    "from minio import Minio\n",
    "import os\n",
    "\n",
    "METADATA_KEY = \"x-amz-meta-type\"\n",
    "METADATA_VAL = \"excel_almendros_cercanos\"\n",
    "\n",
    "\n",
    "ACCESS_ROOT = os.environ.get(\"PREFECT_MINIO_ACCESS_ROOT\")\n",
    "SECRET_ROOT = os.environ.get(\"PREFECT_MINIO_SECRET_ROOT\")\n",
    "MINIO_HOST = os.environ.get(\"PREFECT_MINIO_HOST\")\n",
    "minio_client = Minio(MINIO_HOST, access_key=ACCESS_ROOT,\n",
    "                     secret_key=SECRET_ROOT, secure=False)"
   ]
  },
  {
   "cell_type": "code",
   "execution_count": 7,
   "metadata": {},
   "outputs": [
    {
     "name": "stdout",
     "output_type": "stream",
     "text": [
      "excel_almendros_cercanos\n",
      "excel_almendros_cercanos\n",
      "excel_almendros_cercanos\n",
      "excel_almendros_cercanos\n",
      "excel_almendros_cercanos\n",
      "excel_almendros_cercanos\n",
      "excel_almendros_cercanos\n"
     ]
    },
    {
     "ename": "KeyError",
     "evalue": "'x-amz-meta-type'",
     "output_type": "error",
     "traceback": [
      "\u001b[0;31m---------------------------------------------------------------------------\u001b[0m",
      "\u001b[0;31mKeyError\u001b[0m                                  Traceback (most recent call last)",
      "Cell \u001b[0;32mIn[7], line 8\u001b[0m\n\u001b[1;32m      6\u001b[0m \u001b[39mfor\u001b[39;00m obj \u001b[39min\u001b[39;00m objects:\n\u001b[1;32m      7\u001b[0m     stat \u001b[39m=\u001b[39m minio_client\u001b[39m.\u001b[39mstat_object(\u001b[39m\"\u001b[39m\u001b[39mlanding-zone\u001b[39m\u001b[39m\"\u001b[39m, obj\u001b[39m.\u001b[39mobject_name)\n\u001b[0;32m----> 8\u001b[0m     \u001b[39mprint\u001b[39m(stat\u001b[39m.\u001b[39;49mmetadata[\u001b[39m\"\u001b[39;49m\u001b[39mx-amz-meta-type\u001b[39;49m\u001b[39m\"\u001b[39;49m])\n",
      "File \u001b[0;32m/usr/local/lib/python3.11/site-packages/urllib3/_collections.py:157\u001b[0m, in \u001b[0;36mHTTPHeaderDict.__getitem__\u001b[0;34m(self, key)\u001b[0m\n\u001b[1;32m    156\u001b[0m \u001b[39mdef\u001b[39;00m \u001b[39m__getitem__\u001b[39m(\u001b[39mself\u001b[39m, key):\n\u001b[0;32m--> 157\u001b[0m     val \u001b[39m=\u001b[39m \u001b[39mself\u001b[39;49m\u001b[39m.\u001b[39;49m_container[key\u001b[39m.\u001b[39;49mlower()]\n\u001b[1;32m    158\u001b[0m     \u001b[39mreturn\u001b[39;00m \u001b[39m\"\u001b[39m\u001b[39m, \u001b[39m\u001b[39m\"\u001b[39m\u001b[39m.\u001b[39mjoin(val[\u001b[39m1\u001b[39m:])\n",
      "\u001b[0;31mKeyError\u001b[0m: 'x-amz-meta-type'"
     ]
    }
   ],
   "source": [
    "# Fetch objects and filter by metadata\n",
    "objects = minio_client.list_objects(\n",
    "    \"landing-zone\", include_user_meta=True)\n",
    "# print objects name and metadata\n",
    "objects_name = []\n",
    "for obj in objects:\n",
    "    stat = minio_client.stat_object(\"landing-zone\", obj.object_name)\n",
    "    print(stat.metadata[\"x-amz-meta-type\"])\n",
    "    "
   ]
  }
 ],
 "metadata": {
  "kernelspec": {
   "display_name": "Python 3 (ipykernel)",
   "language": "python",
   "name": "python3"
  },
  "language_info": {
   "codemirror_mode": {
    "name": "ipython",
    "version": 3
   },
   "file_extension": ".py",
   "mimetype": "text/x-python",
   "name": "python",
   "nbconvert_exporter": "python",
   "pygments_lexer": "ipython3",
   "version": "3.11.2"
  },
  "orig_nbformat": 4
 },
 "nbformat": 4,
 "nbformat_minor": 2
}
