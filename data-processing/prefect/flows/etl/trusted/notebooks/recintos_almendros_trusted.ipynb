{
 "cells": [
  {
   "cell_type": "code",
   "execution_count": 3,
   "metadata": {},
   "outputs": [
    {
     "ename": "S3Error",
     "evalue": "S3 operation failed; code: NoSuchKey, message: The specified key does not exist., resource: /trusted-zone/ERP/7eData/2022recintos_almendros_parcelas.xlsx, request_id: 1750DAE500809D16, host_id: e3b0c44298fc1c149afbf4c8996fb92427ae41e4649b934ca495991b7852b855, bucket_name: trusted-zone, object_name: ERP/7eData/2022recintos_almendros_parcelas.xlsx",
     "output_type": "error",
     "traceback": [
      "\u001b[0;31m---------------------------------------------------------------------------\u001b[0m",
      "\u001b[0;31mS3Error\u001b[0m                                   Traceback (most recent call last)",
      "Cell \u001b[0;32mIn[3], line 17\u001b[0m\n\u001b[1;32m     13\u001b[0m minio_client \u001b[39m=\u001b[39m Minio(MINIO_HOST, access_key\u001b[39m=\u001b[39mACCESS_ROOT,\n\u001b[1;32m     14\u001b[0m                      secret_key\u001b[39m=\u001b[39mSECRET_ROOT, secure\u001b[39m=\u001b[39m\u001b[39mFalse\u001b[39;00m)\n\u001b[1;32m     16\u001b[0m \u001b[39m# Get pistacho.json from MinIO and deserialize it\u001b[39;00m\n\u001b[0;32m---> 17\u001b[0m data \u001b[39m=\u001b[39m minio_client\u001b[39m.\u001b[39;49mget_object(\n\u001b[1;32m     18\u001b[0m     \u001b[39m\"\u001b[39;49m\u001b[39mtrusted-zone\u001b[39;49m\u001b[39m\"\u001b[39;49m,PATH \u001b[39m+\u001b[39;49m FILE_NAME)\u001b[39m.\u001b[39mread()\n\u001b[1;32m     19\u001b[0m df \u001b[39m=\u001b[39m pd\u001b[39m.\u001b[39mread_excel(io\u001b[39m.\u001b[39mBytesIO(data), engine\u001b[39m=\u001b[39m\u001b[39m\"\u001b[39m\u001b[39mopenpyxl\u001b[39m\u001b[39m\"\u001b[39m,\n\u001b[1;32m     20\u001b[0m                     sheet_name\u001b[39m=\u001b[39m\u001b[39m\"\u001b[39m\u001b[39mSheet1\u001b[39m\u001b[39m\"\u001b[39m, na_values\u001b[39m=\u001b[39m[\u001b[39m\"\u001b[39m\u001b[39m\"\u001b[39m])\n\u001b[1;32m     21\u001b[0m \u001b[39mlen\u001b[39m(df)\n",
      "File \u001b[0;32m/usr/local/lib/python3.11/site-packages/minio/api.py:1159\u001b[0m, in \u001b[0;36mMinio.get_object\u001b[0;34m(self, bucket_name, object_name, offset, length, request_headers, ssec, version_id, extra_query_params)\u001b[0m\n\u001b[1;32m   1156\u001b[0m     extra_query_params \u001b[39m=\u001b[39m extra_query_params \u001b[39mor\u001b[39;00m {}\n\u001b[1;32m   1157\u001b[0m     extra_query_params[\u001b[39m\"\u001b[39m\u001b[39mversionId\u001b[39m\u001b[39m\"\u001b[39m] \u001b[39m=\u001b[39m version_id\n\u001b[0;32m-> 1159\u001b[0m \u001b[39mreturn\u001b[39;00m \u001b[39mself\u001b[39;49m\u001b[39m.\u001b[39;49m_execute(\n\u001b[1;32m   1160\u001b[0m     \u001b[39m\"\u001b[39;49m\u001b[39mGET\u001b[39;49m\u001b[39m\"\u001b[39;49m,\n\u001b[1;32m   1161\u001b[0m     bucket_name,\n\u001b[1;32m   1162\u001b[0m     object_name,\n\u001b[1;32m   1163\u001b[0m     headers\u001b[39m=\u001b[39;49mheaders,\n\u001b[1;32m   1164\u001b[0m     query_params\u001b[39m=\u001b[39;49mextra_query_params,\n\u001b[1;32m   1165\u001b[0m     preload_content\u001b[39m=\u001b[39;49m\u001b[39mFalse\u001b[39;49;00m,\n\u001b[1;32m   1166\u001b[0m )\n",
      "File \u001b[0;32m/usr/local/lib/python3.11/site-packages/minio/api.py:403\u001b[0m, in \u001b[0;36mMinio._execute\u001b[0;34m(self, method, bucket_name, object_name, body, headers, query_params, preload_content, no_body_trace)\u001b[0m\n\u001b[1;32m    400\u001b[0m region \u001b[39m=\u001b[39m \u001b[39mself\u001b[39m\u001b[39m.\u001b[39m_get_region(bucket_name, \u001b[39mNone\u001b[39;00m)\n\u001b[1;32m    402\u001b[0m \u001b[39mtry\u001b[39;00m:\n\u001b[0;32m--> 403\u001b[0m     \u001b[39mreturn\u001b[39;00m \u001b[39mself\u001b[39;49m\u001b[39m.\u001b[39;49m_url_open(\n\u001b[1;32m    404\u001b[0m         method,\n\u001b[1;32m    405\u001b[0m         region,\n\u001b[1;32m    406\u001b[0m         bucket_name\u001b[39m=\u001b[39;49mbucket_name,\n\u001b[1;32m    407\u001b[0m         object_name\u001b[39m=\u001b[39;49mobject_name,\n\u001b[1;32m    408\u001b[0m         body\u001b[39m=\u001b[39;49mbody,\n\u001b[1;32m    409\u001b[0m         headers\u001b[39m=\u001b[39;49mheaders,\n\u001b[1;32m    410\u001b[0m         query_params\u001b[39m=\u001b[39;49mquery_params,\n\u001b[1;32m    411\u001b[0m         preload_content\u001b[39m=\u001b[39;49mpreload_content,\n\u001b[1;32m    412\u001b[0m         no_body_trace\u001b[39m=\u001b[39;49mno_body_trace,\n\u001b[1;32m    413\u001b[0m     )\n\u001b[1;32m    414\u001b[0m \u001b[39mexcept\u001b[39;00m S3Error \u001b[39mas\u001b[39;00m exc:\n\u001b[1;32m    415\u001b[0m     \u001b[39mif\u001b[39;00m exc\u001b[39m.\u001b[39mcode \u001b[39m!=\u001b[39m \u001b[39m\"\u001b[39m\u001b[39mRetryHead\u001b[39m\u001b[39m\"\u001b[39m:\n",
      "File \u001b[0;32m/usr/local/lib/python3.11/site-packages/minio/api.py:386\u001b[0m, in \u001b[0;36mMinio._url_open\u001b[0;34m(self, method, region, bucket_name, object_name, body, headers, query_params, preload_content, no_body_trace)\u001b[0m\n\u001b[1;32m    383\u001b[0m \u001b[39mif\u001b[39;00m response_error\u001b[39m.\u001b[39mcode \u001b[39min\u001b[39;00m [\u001b[39m\"\u001b[39m\u001b[39mNoSuchBucket\u001b[39m\u001b[39m\"\u001b[39m, \u001b[39m\"\u001b[39m\u001b[39mRetryHead\u001b[39m\u001b[39m\"\u001b[39m]:\n\u001b[1;32m    384\u001b[0m     \u001b[39mself\u001b[39m\u001b[39m.\u001b[39m_region_map\u001b[39m.\u001b[39mpop(bucket_name, \u001b[39mNone\u001b[39;00m)\n\u001b[0;32m--> 386\u001b[0m \u001b[39mraise\u001b[39;00m response_error\n",
      "\u001b[0;31mS3Error\u001b[0m: S3 operation failed; code: NoSuchKey, message: The specified key does not exist., resource: /trusted-zone/ERP/7eData/2022recintos_almendros_parcelas.xlsx, request_id: 1750DAE500809D16, host_id: e3b0c44298fc1c149afbf4c8996fb92427ae41e4649b934ca495991b7852b855, bucket_name: trusted-zone, object_name: ERP/7eData/2022recintos_almendros_parcelas.xlsx"
     ]
    }
   ],
   "source": [
    "import pandas as pd\n",
    "import io\n",
    "from minio import Minio\n",
    "import os\n",
    "\n",
    "PATH = \"ERP/7eData/2022/\"\n",
    "FILE_NAME = \"recintos_almendros_parcelas.xlsx\"\n",
    "\n",
    "\n",
    "ACCESS_ROOT = os.environ.get(\"PREFECT_MINIO_ACCESS_ROOT\")\n",
    "SECRET_ROOT = os.environ.get(\"PREFECT_MINIO_SECRET_ROOT\")\n",
    "MINIO_HOST = os.environ.get(\"PREFECT_MINIO_HOST\")\n",
    "minio_client = Minio(MINIO_HOST, access_key=ACCESS_ROOT,\n",
    "                     secret_key=SECRET_ROOT, secure=False)\n",
    "\n",
    "# Get pistacho.json from MinIO and deserialize it\n",
    "data = minio_client.get_object(\n",
    "    \"trusted-zone\",PATH + FILE_NAME).read()\n",
    "df = pd.read_excel(io.BytesIO(data), engine=\"openpyxl\",\n",
    "                    sheet_name=\"Sheet1\", na_values=[\"\"])\n",
    "len(df)"
   ]
  }
 ],
 "metadata": {
  "kernelspec": {
   "display_name": "Python 3",
   "language": "python",
   "name": "python3"
  },
  "language_info": {
   "codemirror_mode": {
    "name": "ipython",
    "version": 3
   },
   "file_extension": ".py",
   "mimetype": "text/x-python",
   "name": "python",
   "nbconvert_exporter": "python",
   "pygments_lexer": "ipython3",
   "version": "3.11.2"
  },
  "orig_nbformat": 4
 },
 "nbformat": 4,
 "nbformat_minor": 2
}
