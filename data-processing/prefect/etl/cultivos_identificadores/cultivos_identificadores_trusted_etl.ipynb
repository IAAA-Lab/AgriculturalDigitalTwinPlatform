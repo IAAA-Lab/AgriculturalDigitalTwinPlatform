{
 "cells": [
  {
   "attachments": {},
   "cell_type": "markdown",
   "metadata": {},
   "source": [
    "# Extract"
   ]
  },
  {
   "cell_type": "code",
   "execution_count": 1,
   "metadata": {},
   "outputs": [],
   "source": [
    "# Make jupyter to accept import python modules from other folders\n",
    "import sys\n",
    "sys.path.append(\"../..\")\n",
    "\n",
    "from utils.functions import DB_MinioClient\n",
    "from utils.constants import Constants\n",
    "import pandas as pd\n",
    "import io\n",
    "\n",
    "FILE_NAME = \"cultivos_identificadores.xlsx\"\n",
    "BUCKET_FROM_NAME = Constants.STORAGE_LANDING_ZONE.value\n",
    "\n",
    "# Connect to MinIO\n",
    "minio_client = DB_MinioClient().connect()\n",
    "# Get data from MinIO\n",
    "data = minio_client.get_object(\n",
    "    BUCKET_FROM_NAME, FILE_NAME).read()\n",
    "df = pd.read_excel(io.BytesIO(data), engine=\"openpyxl\",\n",
    "                   sheet_name=\"productos\", na_values=[''])\n"
   ]
  },
  {
   "attachments": {},
   "cell_type": "markdown",
   "metadata": {},
   "source": [
    "# Validate"
   ]
  },
  {
   "cell_type": "code",
   "execution_count": 2,
   "metadata": {},
   "outputs": [
    {
     "data": {
      "text/html": [
       "<div>\n",
       "<style scoped>\n",
       "    .dataframe tbody tr th:only-of-type {\n",
       "        vertical-align: middle;\n",
       "    }\n",
       "\n",
       "    .dataframe tbody tr th {\n",
       "        vertical-align: top;\n",
       "    }\n",
       "\n",
       "    .dataframe thead th {\n",
       "        text-align: right;\n",
       "    }\n",
       "</style>\n",
       "<table border=\"1\" class=\"dataframe\">\n",
       "  <thead>\n",
       "    <tr style=\"text-align: right;\">\n",
       "      <th></th>\n",
       "      <th>CÓDIGO</th>\n",
       "      <th>PRODUCTO SIEX</th>\n",
       "    </tr>\n",
       "  </thead>\n",
       "  <tbody>\n",
       "    <tr>\n",
       "      <th>0</th>\n",
       "      <td>1</td>\n",
       "      <td>ABACA ALIAS MANILA</td>\n",
       "    </tr>\n",
       "    <tr>\n",
       "      <th>1</th>\n",
       "      <td>2</td>\n",
       "      <td>ABEDUL</td>\n",
       "    </tr>\n",
       "    <tr>\n",
       "      <th>2</th>\n",
       "      <td>3</td>\n",
       "      <td>ABETO</td>\n",
       "    </tr>\n",
       "    <tr>\n",
       "      <th>3</th>\n",
       "      <td>4</td>\n",
       "      <td>ABETO DE DOUGLAS</td>\n",
       "    </tr>\n",
       "    <tr>\n",
       "      <th>4</th>\n",
       "      <td>5</td>\n",
       "      <td>ACACIA</td>\n",
       "    </tr>\n",
       "    <tr>\n",
       "      <th>...</th>\n",
       "      <td>...</td>\n",
       "      <td>...</td>\n",
       "    </tr>\n",
       "    <tr>\n",
       "      <th>440</th>\n",
       "      <td>945</td>\n",
       "      <td>ZANAHORIA</td>\n",
       "    </tr>\n",
       "    <tr>\n",
       "      <th>441</th>\n",
       "      <td>946</td>\n",
       "      <td>ZAPOTE</td>\n",
       "    </tr>\n",
       "    <tr>\n",
       "      <th>442</th>\n",
       "      <td>947</td>\n",
       "      <td>ZARZAMORA</td>\n",
       "    </tr>\n",
       "    <tr>\n",
       "      <th>443</th>\n",
       "      <td>948</td>\n",
       "      <td>ZULLA</td>\n",
       "    </tr>\n",
       "    <tr>\n",
       "      <th>444</th>\n",
       "      <td>949</td>\n",
       "      <td>ZUMAQUE</td>\n",
       "    </tr>\n",
       "  </tbody>\n",
       "</table>\n",
       "<p>445 rows × 2 columns</p>\n",
       "</div>"
      ],
      "text/plain": [
       "     CÓDIGO        PRODUCTO SIEX\n",
       "0         1  ABACA ALIAS MANILA \n",
       "1         2               ABEDUL\n",
       "2         3                ABETO\n",
       "3         4     ABETO DE DOUGLAS\n",
       "4         5               ACACIA\n",
       "..      ...                  ...\n",
       "440     945            ZANAHORIA\n",
       "441     946               ZAPOTE\n",
       "442     947           ZARZAMORA \n",
       "443     948                ZULLA\n",
       "444     949              ZUMAQUE\n",
       "\n",
       "[445 rows x 2 columns]"
      ]
     },
     "execution_count": 2,
     "metadata": {},
     "output_type": "execute_result"
    }
   ],
   "source": [
    "import pandera as pa\n",
    "\n",
    "schema = pa.DataFrameSchema(\n",
    "    columns={\n",
    "        \"CÓDIGO\": pa.Column(pa.Int, nullable=False),\n",
    "        \"PRODUCTO SIEX\": pa.Column(pa.String, nullable=False)\n",
    "    }\n",
    ")\n",
    "\n",
    "schema.validate(df)"
   ]
  },
  {
   "attachments": {},
   "cell_type": "markdown",
   "metadata": {},
   "source": [
    "# Clean"
   ]
  },
  {
   "cell_type": "code",
   "execution_count": 3,
   "metadata": {},
   "outputs": [],
   "source": [
    "# Change column names\n",
    "try:\n",
    "    df.columns = [\"id\", \"name\"]\n",
    "except Exception as e:\n",
    "    # Finish flow with error\n",
    "    raise ValueError(\"Error changing column names: \", e)\n",
    "# Modify data\n",
    "# Convert NULL, NP, NaN, etc. to None\n",
    "df = df.replace(\n",
    "    {pd.NA: None, \"NP\": None, \"NaN\": None, \"\": None, \"NULL\": None})\n",
    "# Convert strings to uppercase\n",
    "df[\"name\"] = df[\"name\"].str.upper()\n",
    "# Convert \"id\" column to string\n",
    "df[\"id\"] = df[\"id\"].astype(str)"
   ]
  },
  {
   "cell_type": "code",
   "execution_count": 4,
   "metadata": {},
   "outputs": [],
   "source": [
    "# Transform to parquet\n",
    "parquet_buffer = df.to_parquet()"
   ]
  },
  {
   "attachments": {},
   "cell_type": "markdown",
   "metadata": {},
   "source": [
    "# Load"
   ]
  },
  {
   "cell_type": "code",
   "execution_count": 5,
   "metadata": {},
   "outputs": [
    {
     "data": {
      "text/plain": [
       "<minio.helpers.ObjectWriteResult at 0x7f92940fd250>"
      ]
     },
     "execution_count": 5,
     "metadata": {},
     "output_type": "execute_result"
    }
   ],
   "source": [
    "# Connect to MinIO\n",
    "minio_client = DB_MinioClient().connect()\n",
    "# Save data to MinIO\n",
    "file_name = FILE_NAME.replace(\"xlsx\", \"parquet\")\n",
    "processed_data = io.BytesIO(parquet_buffer)\n",
    "minio_client.put_object(\n",
    "    Constants.STORAGE_TRUSTED_ZONE.value,\n",
    "    f\"ERP/unknown/{file_name}\",\n",
    "    processed_data,\n",
    "    length=processed_data.getbuffer().nbytes,\n",
    "    content_type=\"application/octet-stream\",\n",
    "    metadata={\n",
    "        \"source\": \"unknown\",\n",
    "        \"type\": \"trusted\"\n",
    "    }\n",
    ")\n",
    "\n"
   ]
  }
 ],
 "metadata": {
  "kernelspec": {
   "display_name": "Python 3 (ipykernel)",
   "language": "python",
   "name": "python3"
  },
  "language_info": {
   "codemirror_mode": {
    "name": "ipython",
    "version": 3
   },
   "file_extension": ".py",
   "mimetype": "text/x-python",
   "name": "python",
   "nbconvert_exporter": "python",
   "pygments_lexer": "ipython3",
   "version": "3.11.4"
  },
  "orig_nbformat": 4
 },
 "nbformat": 4,
 "nbformat_minor": 2
}
