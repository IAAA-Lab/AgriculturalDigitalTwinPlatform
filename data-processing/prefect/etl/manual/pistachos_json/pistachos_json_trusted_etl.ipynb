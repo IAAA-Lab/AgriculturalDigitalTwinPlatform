{
 "cells": [
  {
   "attachments": {},
   "cell_type": "markdown",
   "metadata": {},
   "source": [
    "# Extract"
   ]
  },
  {
   "cell_type": "code",
   "execution_count": 6,
   "metadata": {},
   "outputs": [],
   "source": [
    "import json\n",
    "from flows.etl.utils.functions import DB_MinioClient\n",
    "import pandas as pd\n",
    "import io\n",
    "\n",
    "FILE_NAME = \"pistacho.json\"\n",
    "\n",
    "# Connect to MinIO\n",
    "minio_client = DB_MinioClient().connect()\n",
    "# Get pistacho.json from MinIO and deserialize it\n",
    "pistacho_json_data = minio_client.get_object(\n",
    "    \"landing-zone\", FILE_NAME).read().decode(\"utf-8\")\n",
    "pistachio_json = json.loads(pistacho_json_data)\n",
    "\n"
   ]
  },
  {
   "attachments": {},
   "cell_type": "markdown",
   "metadata": {},
   "source": [
    "# Transform"
   ]
  },
  {
   "cell_type": "code",
   "execution_count": 7,
   "metadata": {},
   "outputs": [
    {
     "name": "stdout",
     "output_type": "stream",
     "text": [
      "excel_almendros_cercanos\n",
      "excel_almendros_cercanos\n",
      "excel_almendros_cercanos\n",
      "excel_almendros_cercanos\n",
      "excel_almendros_cercanos\n",
      "excel_almendros_cercanos\n",
      "excel_almendros_cercanos\n"
     ]
    },
    {
     "ename": "KeyError",
     "evalue": "'x-amz-meta-type'",
     "output_type": "error",
     "traceback": [
      "\u001b[0;31m---------------------------------------------------------------------------\u001b[0m",
      "\u001b[0;31mKeyError\u001b[0m                                  Traceback (most recent call last)",
      "Cell \u001b[0;32mIn[7], line 8\u001b[0m\n\u001b[1;32m      6\u001b[0m \u001b[39mfor\u001b[39;00m obj \u001b[39min\u001b[39;00m objects:\n\u001b[1;32m      7\u001b[0m     stat \u001b[39m=\u001b[39m minio_client\u001b[39m.\u001b[39mstat_object(\u001b[39m\"\u001b[39m\u001b[39mlanding-zone\u001b[39m\u001b[39m\"\u001b[39m, obj\u001b[39m.\u001b[39mobject_name)\n\u001b[0;32m----> 8\u001b[0m     \u001b[39mprint\u001b[39m(stat\u001b[39m.\u001b[39;49mmetadata[\u001b[39m\"\u001b[39;49m\u001b[39mx-amz-meta-type\u001b[39;49m\u001b[39m\"\u001b[39;49m])\n",
      "File \u001b[0;32m/usr/local/lib/python3.11/site-packages/urllib3/_collections.py:157\u001b[0m, in \u001b[0;36mHTTPHeaderDict.__getitem__\u001b[0;34m(self, key)\u001b[0m\n\u001b[1;32m    156\u001b[0m \u001b[39mdef\u001b[39;00m \u001b[39m__getitem__\u001b[39m(\u001b[39mself\u001b[39m, key):\n\u001b[0;32m--> 157\u001b[0m     val \u001b[39m=\u001b[39m \u001b[39mself\u001b[39;49m\u001b[39m.\u001b[39;49m_container[key\u001b[39m.\u001b[39;49mlower()]\n\u001b[1;32m    158\u001b[0m     \u001b[39mreturn\u001b[39;00m \u001b[39m\"\u001b[39m\u001b[39m, \u001b[39m\u001b[39m\"\u001b[39m\u001b[39m.\u001b[39mjoin(val[\u001b[39m1\u001b[39m:])\n",
      "\u001b[0;31mKeyError\u001b[0m: 'x-amz-meta-type'"
     ]
    }
   ],
   "source": [
    "def replace_json_values(obj, key, new_value):\n",
    "    for each in obj:\n",
    "        each[key] = new_value\n",
    "    return obj\n",
    "\n",
    "# Hide sensitive data\n",
    "pistachio_json['Farm']['HeatlhAdvisor'] = replace_json_values(\n",
    "    pistachio_json['Farm']['HeatlhAdvisor'], \"NIF_Code\", \"---\")\n",
    "# Convert back to JSON string\n",
    "processed_pistachio_json = json.dumps(pistachio_json)\n",
    "\n"
   ]
  },
  {
   "attachments": {},
   "cell_type": "markdown",
   "metadata": {},
   "source": [
    "# Load"
   ]
  },
  {
   "cell_type": "code",
   "execution_count": null,
   "metadata": {},
   "outputs": [],
   "source": [
    "# Connect to MinIO\n",
    "minio_client = DB_MinioClient().connect()\n",
    "# Store processed data with metadata in MinIO\n",
    "processed_data_bytes = io.BytesIO(processed_pistachio_json.encode(\"utf-8\"))\n",
    "minio_client.put_object(\n",
    "    \"trusted-zone\",\n",
    "    f\"ERP/unknown/{FILE_NAME}\",\n",
    "    processed_data_bytes,\n",
    "    len(processed_pistachio_json),\n",
    "    content_type=\"application/json\",\n",
    "    metadata={\n",
    "        \"type\": \"trusted\",\n",
    "        \"description\": \"Pistachio raw data containing farmholders, healthadvisors, healthapplicators and static parcel information\",\n",
    "    },\n",
    ")\n"
   ]
  }
 ],
 "metadata": {
  "kernelspec": {
   "display_name": "Python 3 (ipykernel)",
   "language": "python",
   "name": "python3"
  },
  "language_info": {
   "codemirror_mode": {
    "name": "ipython",
    "version": 3
   },
   "file_extension": ".py",
   "mimetype": "text/x-python",
   "name": "python",
   "nbconvert_exporter": "python",
   "pygments_lexer": "ipython3",
   "version": "3.11.2"
  },
  "orig_nbformat": 4
 },
 "nbformat": 4,
 "nbformat_minor": 2
}
